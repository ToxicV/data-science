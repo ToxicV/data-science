{
 "cells": [
  {
   "cell_type": "markdown",
   "metadata": {},
   "source": [
    "# Document Similarity"
   ]
  },
  {
   "cell_type": "code",
   "execution_count": 2,
   "metadata": {},
   "outputs": [],
   "source": [
    "import numpy as np\n",
    "import nltk\n",
    "from nltk.corpus import wordnet as wn\n",
    "import pandas as pd\n",
    "\n",
    "\n",
    "def convert_tag(tag):\n",
    "    \"\"\"Convert the tag given by nltk.pos_tag to the tag used by wordnet.synsets\"\"\"\n",
    "    \n",
    "    tag_dict = {'N': 'n', 'J': 'a', 'R': 'r', 'V': 'v'}\n",
    "    try:\n",
    "        return tag_dict[tag[0]]\n",
    "    except KeyError:\n",
    "        return None\n",
    "\n",
    "\n",
    "def doc_to_synsets(doc):\n",
    "    \"\"\"\n",
    "    Returns a list of synsets in document.\n",
    "\n",
    "    Tokenizes and tags the words in the document doc.\n",
    "    Then finds the first synset for each word/tag combination.\n",
    "    If a synset is not found for that combination it is skipped.\n",
    "\n",
    "    Args:\n",
    "        doc: string to be converted\n",
    "\n",
    "    Returns:\n",
    "        list of synsets\n",
    "\n",
    "    Example:\n",
    "        doc_to_synsets('Fish are nvqjp friends.')\n",
    "        Out: [Synset('fish.n.01'), Synset('be.v.01'), Synset('friend.n.01')]\n",
    "    \"\"\"\n",
    "    \n",
    "    doc_tokens = nltk.word_tokenize(doc)\n",
    "    tags = nltk.pos_tag(doc_tokens)\n",
    "    wn_tags = [(tag[0],convert_tag(tag[1])) for tag in tags]\n",
    "    synsets = [wn.synsets(wn_tag[0],wn_tag[1])[0] for wn_tag in wn_tags \n",
    "               if len(wn.synsets(wn_tag[0],wn_tag[1])) > 0]\n",
    "                \n",
    "    return synsets\n",
    "\n",
    "\n",
    "def similarity_score(s1, s2):\n",
    "    \"\"\"\n",
    "    Calculate the normalized similarity score of s1 onto s2\n",
    "\n",
    "    For each synset in s1, finds the synset in s2 with the largest similarity value.\n",
    "    Sum of all of the largest similarity values and normalize this value by dividing it by the\n",
    "    number of largest similarity values found.\n",
    "\n",
    "    Args:\n",
    "        s1, s2: list of synsets from doc_to_synsets\n",
    "\n",
    "    Returns:\n",
    "        normalized similarity score of s1 onto s2\n",
    "\n",
    "    Example:\n",
    "        synsets1 = doc_to_synsets('I like cats')\n",
    "        synsets2 = doc_to_synsets('I like dogs')\n",
    "        similarity_score(synsets1, synsets2)\n",
    "        Out: 0.73333333333333339\n",
    "    \"\"\"\n",
    "\n",
    "    similarity_score = np.mean(\n",
    "        [np.max(\n",
    "             [k1.path_similarity(k2) for k2 in s2 if k1.path_similarity(k2) is not None]\n",
    "        ) \n",
    "        for k1 in s1\n",
    "        if len([k1.path_similarity(k2) for k2 in s2 if k1.path_similarity(k2) is not None]) > 0\n",
    "        ]\n",
    "    )\n",
    "    \n",
    "    return similarity_score \n",
    "\n",
    "\n",
    "def document_path_similarity(doc1, doc2):\n",
    "    \"\"\"Finds the symmetrical similarity between doc1 and doc2\"\"\"\n",
    "\n",
    "    synsets1 = doc_to_synsets(doc1)\n",
    "    synsets2 = doc_to_synsets(doc2)\n",
    "\n",
    "    return (similarity_score(synsets1, synsets2) + similarity_score(synsets2, synsets1)) / 2"
   ]
  },
  {
   "cell_type": "markdown",
   "metadata": {},
   "source": [
    "### test_document_path_similarity\n",
    "\n",
    "Use this function to check if doc_to_synsets and similarity_score are correct.\n",
    "\n",
    "*This function should return the similarity score as a float.*"
   ]
  },
  {
   "cell_type": "code",
   "execution_count": 3,
   "metadata": {},
   "outputs": [
    {
     "data": {
      "text/plain": [
       "0.55426587301587305"
      ]
     },
     "execution_count": 3,
     "metadata": {},
     "output_type": "execute_result"
    }
   ],
   "source": [
    "def test_document_path_similarity():\n",
    "    doc1 = 'This is a function to test document_path_similarity.'\n",
    "    doc2 = 'Use this function to see if your code in doc_to_synsets \\\n",
    "    and similarity_score is correct!'\n",
    "    return document_path_similarity(doc1, doc2)\n",
    "test_document_path_similarity() #0.55426587301587305"
   ]
  },
  {
   "cell_type": "code",
   "execution_count": 4,
   "metadata": {},
   "outputs": [],
   "source": [
    "#nltk.download()"
   ]
  },
  {
   "cell_type": "code",
   "execution_count": 5,
   "metadata": {},
   "outputs": [
    {
     "data": {
      "text/plain": [
       "0.73333333333333339"
      ]
     },
     "execution_count": 5,
     "metadata": {},
     "output_type": "execute_result"
    }
   ],
   "source": [
    "# Testing Case 2\n",
    "#Out: 0.73333333333333339\n",
    "\n",
    "synsets1 = doc_to_synsets('I like cats')\n",
    "synsets2 = doc_to_synsets('I like dogs')\n",
    "similarity_score(synsets1, synsets2)"
   ]
  },
  {
   "cell_type": "code",
   "execution_count": 6,
   "metadata": {},
   "outputs": [
    {
     "name": "stdout",
     "output_type": "stream",
     "text": [
      "synsets1 [Synset('be.v.01'), Synset('angstrom.n.01'), Synset('function.n.01'), Synset('test.v.01')]\n",
      "synsets2 [Synset('use.v.01'), Synset('function.n.01'), Synset('see.v.01'), Synset('code.n.01'), Synset('inch.n.01'), Synset('be.v.01'), Synset('correct.a.01')]\n",
      "s1s2_score 0.6125\n",
      "s2s1_score 0.496031746032\n",
      "s1 s2 doc similarity score 0.554265873016\n"
     ]
    }
   ],
   "source": [
    "# Testing Cases 3\n",
    "doc1 = 'This is a function to test document_path_similarity.'\n",
    "doc2 = 'Use this function to see if your code in doc_to_synsets \\\n",
    "and similarity_score is correct!'\n",
    "synsets1 = doc_to_synsets(doc1)\n",
    "synsets2 = doc_to_synsets(doc2)\n",
    "print(\"synsets1\", synsets1) # a list with 4 elements\n",
    "print(\"synsets2\", synsets2) # a list with 7 elements\n",
    "s1s2_score = similarity_score(synsets1, synsets2)\n",
    "s2s1_score = similarity_score(synsets2, synsets1)\n",
    "print(\"s1s2_score\", s1s2_score) # 0.6?2?0?0?0\n",
    "print(\"s2s1_score\", s2s1_score) # 0.4?6?3?7?6\n",
    "print(\"s1 s2 doc similarity score\", (s1s2_score + s2s1_score) / 2) # 0.5?4?6?8?3"
   ]
  },
  {
   "cell_type": "markdown",
   "metadata": {},
   "source": [
    "<br>\n",
    "___\n",
    "`paraphrases` is a DataFrame which contains the following columns: `Quality`, `D1`, and `D2`.\n",
    "\n",
    "`Quality` is an indicator variable which indicates if the two documents `D1` and `D2` are paraphrases of one another (1 for paraphrase, 0 for not paraphrase)."
   ]
  },
  {
   "cell_type": "code",
   "execution_count": 8,
   "metadata": {},
   "outputs": [
    {
     "data": {
      "text/html": [
       "<div>\n",
       "<style>\n",
       "    .dataframe thead tr:only-child th {\n",
       "        text-align: right;\n",
       "    }\n",
       "\n",
       "    .dataframe thead th {\n",
       "        text-align: left;\n",
       "    }\n",
       "\n",
       "    .dataframe tbody tr th {\n",
       "        vertical-align: top;\n",
       "    }\n",
       "</style>\n",
       "<table border=\"1\" class=\"dataframe\">\n",
       "  <thead>\n",
       "    <tr style=\"text-align: right;\">\n",
       "      <th></th>\n",
       "      <th>Quality</th>\n",
       "      <th>D1</th>\n",
       "      <th>D2</th>\n",
       "    </tr>\n",
       "  </thead>\n",
       "  <tbody>\n",
       "    <tr>\n",
       "      <th>0</th>\n",
       "      <td>1</td>\n",
       "      <td>Ms Stewart, the chief executive, was not expec...</td>\n",
       "      <td>Ms Stewart, 61, its chief executive officer an...</td>\n",
       "    </tr>\n",
       "    <tr>\n",
       "      <th>1</th>\n",
       "      <td>1</td>\n",
       "      <td>After more than two years' detention under the...</td>\n",
       "      <td>After more than two years in detention by the ...</td>\n",
       "    </tr>\n",
       "    <tr>\n",
       "      <th>2</th>\n",
       "      <td>1</td>\n",
       "      <td>\"It still remains to be seen whether the reven...</td>\n",
       "      <td>\"It remains to be seen whether the revenue rec...</td>\n",
       "    </tr>\n",
       "    <tr>\n",
       "      <th>3</th>\n",
       "      <td>0</td>\n",
       "      <td>And it's going to be a wild ride,\" said Allan ...</td>\n",
       "      <td>Now the rest is just mechanical,\" said Allan H...</td>\n",
       "    </tr>\n",
       "    <tr>\n",
       "      <th>4</th>\n",
       "      <td>1</td>\n",
       "      <td>The cards are issued by Mexico's consulates to...</td>\n",
       "      <td>The card is issued by Mexico's consulates to i...</td>\n",
       "    </tr>\n",
       "  </tbody>\n",
       "</table>\n",
       "</div>"
      ],
      "text/plain": [
       "   Quality                                                 D1  \\\n",
       "0        1  Ms Stewart, the chief executive, was not expec...   \n",
       "1        1  After more than two years' detention under the...   \n",
       "2        1  \"It still remains to be seen whether the reven...   \n",
       "3        0  And it's going to be a wild ride,\" said Allan ...   \n",
       "4        1  The cards are issued by Mexico's consulates to...   \n",
       "\n",
       "                                                  D2  \n",
       "0  Ms Stewart, 61, its chief executive officer an...  \n",
       "1  After more than two years in detention by the ...  \n",
       "2  \"It remains to be seen whether the revenue rec...  \n",
       "3  Now the rest is just mechanical,\" said Allan H...  \n",
       "4  The card is issued by Mexico's consulates to i...  "
      ]
     },
     "execution_count": 8,
     "metadata": {},
     "output_type": "execute_result"
    }
   ],
   "source": [
    "# Use this dataframe for questions most_similar_docs and label_accuracy\n",
    "paraphrases = pd.read_csv('paraphrases.csv')\n",
    "paraphrases.head()"
   ]
  },
  {
   "cell_type": "markdown",
   "metadata": {},
   "source": [
    "___\n",
    "\n",
    "### most_similar_docs\n",
    "\n",
    "Using `document_path_similarity`, find the pair of documents in paraphrases which has the maximum similarity score.\n",
    "\n",
    "*This function should return a tuple `(D1, D2, similarity_score)`*"
   ]
  },
  {
   "cell_type": "code",
   "execution_count": 9,
   "metadata": {},
   "outputs": [
    {
     "data": {
      "text/plain": [
       "('\"Indeed, Iran should be put on notice that efforts to try to remake Iraq in their image will be aggressively put down,\" he said.',\n",
       " '\"Iran should be on notice that attempts to remake Iraq in Iran\\'s image will be aggressively put down,\" he said.\\n',\n",
       " 0.97530864197530864)"
      ]
     },
     "execution_count": 9,
     "metadata": {},
     "output_type": "execute_result"
    }
   ],
   "source": [
    "def most_similar_docs():\n",
    "    \n",
    "    paraphrases[\"score\"] = list(map(document_path_similarity,paraphrases['D1'],paraphrases['D2']))\n",
    "    most_similar_docs = tuple(paraphrases.loc[paraphrases['score'].idxmax()])[1:4]\n",
    "    \n",
    "    return most_similar_docs \n",
    "most_similar_docs() #0.97530864197530864"
   ]
  },
  {
   "cell_type": "markdown",
   "metadata": {},
   "source": [
    "### label_accuracy\n",
    "\n",
    "Provide labels for the twenty pairs of documents by computing the similarity for each pair using `document_path_similarity`. Let the classifier rule be that if the score is greater than 0.75, label is paraphrase (1), else label is not paraphrase (0). Report accuracy of the classifier using scikit-learn's accuracy_score.\n",
    "\n",
    "*This function should return a float.*"
   ]
  },
  {
   "cell_type": "code",
   "execution_count": 10,
   "metadata": {},
   "outputs": [
    {
     "data": {
      "text/plain": [
       "0.80000000000000004"
      ]
     },
     "execution_count": 10,
     "metadata": {},
     "output_type": "execute_result"
    }
   ],
   "source": [
    "def label_accuracy():\n",
    "    from sklearn.metrics import accuracy_score\n",
    "    \n",
    "    paraphrases[\"score\"] = list(map(document_path_similarity,paraphrases['D1'],paraphrases['D2']))\n",
    "    paraphrases[\"pred\"] = np.where(paraphrases[\"score\"] > 0.75, 1, 0)\n",
    "    scores = accuracy_score(paraphrases[\"Quality\"],paraphrases[\"pred\"])\n",
    "    \n",
    "    return scores\n",
    "label_accuracy() #0.80000000000000004"
   ]
  },
  {
   "cell_type": "code",
   "execution_count": null,
   "metadata": {},
   "outputs": [],
   "source": []
  }
 ],
 "metadata": {
  "coursera": {
   "course_slug": "python-text-mining",
   "graded_item_id": "2qbcK",
   "launcher_item_id": "pi9Sh",
   "part_id": "kQiwX"
  },
  "kernelspec": {
   "display_name": "Python 3",
   "language": "python",
   "name": "python3"
  },
  "language_info": {
   "codemirror_mode": {
    "name": "ipython",
    "version": 3
   },
   "file_extension": ".py",
   "mimetype": "text/x-python",
   "name": "python",
   "nbconvert_exporter": "python",
   "pygments_lexer": "ipython3",
   "version": "3.6.3"
  }
 },
 "nbformat": 4,
 "nbformat_minor": 2
}
